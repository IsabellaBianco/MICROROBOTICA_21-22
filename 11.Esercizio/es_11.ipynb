{
 "cells": [
  {
   "cell_type": "code",
   "execution_count": 1,
   "id": "0ab8e3cc",
   "metadata": {},
   "outputs": [],
   "source": [
    "import numpy as np"
   ]
  },
  {
   "cell_type": "markdown",
   "id": "a2feb2f7",
   "metadata": {},
   "source": [
    "Vediamo il concetto di **Broadcast**.\n",
    "Il broadcast continua in fare un'operazioni su tutti gli elementi dell'array numpy.\n",
    "Vediamo degli *esempi*:"
   ]
  },
  {
   "cell_type": "code",
   "execution_count": 2,
   "id": "3fe3de0f",
   "metadata": {},
   "outputs": [
    {
     "data": {
      "text/plain": [
       "array([ 0,  1,  2,  3,  4,  5,  6,  7,  8,  9, 10, 11])"
      ]
     },
     "execution_count": 2,
     "metadata": {},
     "output_type": "execute_result"
    }
   ],
   "source": [
    "a = np.arange(0,12)\n",
    "a"
   ]
  },
  {
   "cell_type": "code",
   "execution_count": 3,
   "id": "da4b8e92",
   "metadata": {},
   "outputs": [
    {
     "data": {
      "text/plain": [
       "array([ 5,  6,  7,  8,  9, 10, 11, 12, 13, 14, 15, 16])"
      ]
     },
     "execution_count": 3,
     "metadata": {},
     "output_type": "execute_result"
    }
   ],
   "source": [
    "a+5"
   ]
  },
  {
   "cell_type": "code",
   "execution_count": 6,
   "id": "155734ad",
   "metadata": {},
   "outputs": [
    {
     "data": {
      "text/plain": [
       "array([[ 0,  1,  2],\n",
       "       [ 3,  4,  5],\n",
       "       [ 6,  7,  8],\n",
       "       [ 9, 10, 11]])"
      ]
     },
     "execution_count": 6,
     "metadata": {},
     "output_type": "execute_result"
    }
   ],
   "source": [
    "#NB nel caso non si volesse calcolare l'altra dimensione basta dare -1 (vuol dire che la calcola lui)\n",
    "b = a.reshape((4,3))\n",
    "b"
   ]
  },
  {
   "cell_type": "code",
   "execution_count": 8,
   "id": "b8fe096c",
   "metadata": {},
   "outputs": [
    {
     "data": {
      "text/plain": [
       "array([100., 100., 100.])"
      ]
     },
     "execution_count": 8,
     "metadata": {},
     "output_type": "execute_result"
    }
   ],
   "source": [
    "c = np.ones(3)*100\n",
    "c"
   ]
  },
  {
   "cell_type": "code",
   "execution_count": 11,
   "id": "7b8e6731",
   "metadata": {},
   "outputs": [
    {
     "data": {
      "text/plain": [
       "array([[100., 101., 102.],\n",
       "       [103., 104., 105.],\n",
       "       [106., 107., 108.],\n",
       "       [109., 110., 111.]])"
      ]
     },
     "execution_count": 11,
     "metadata": {},
     "output_type": "execute_result"
    }
   ],
   "source": [
    "#fa la somma riga per riga. L'array monodimensionale deve avere la stesso dimensione del numero di colonne.\n",
    "b+c"
   ]
  },
  {
   "cell_type": "code",
   "execution_count": 17,
   "id": "7aba3568",
   "metadata": {},
   "outputs": [],
   "source": [
    "#Esistono degli algoritmi che generano degli identicativi univoci, ovvero praticamente sono sempre diverse e si \n",
    "#generano con delle funzioni di hash\n"
   ]
  },
  {
   "cell_type": "markdown",
   "id": "a0951874",
   "metadata": {},
   "source": [
    "### aereoporto\n",
    "C'è uno scanner in aereoporto dove si misura la temperatura di 200.000 passeggeri. L'array contiene le temperatura del 1 gennaio 2020, l'array identiifcativi contiene la lista di numeri identificativi."
   ]
  },
  {
   "cell_type": "code",
   "execution_count": 2,
   "id": "cc0b1059",
   "metadata": {},
   "outputs": [],
   "source": [
    "n_passeggeri = 2000000\n",
    "temperature = np.random.normal(36.5, 0.25, n_passeggeri)\n",
    "#identificativi = np.array([str(uuid.uuid4()) for _ in range(n_passeggeri)])\n",
    "#identificativi"
   ]
  },
  {
   "cell_type": "markdown",
   "id": "2e828f06",
   "metadata": {},
   "source": [
    "##### NB in python per ciclare sui valori di due array, possiamo usare zip come se fosse enumerate dei dizionari.\n",
    "\n",
    "In questo esercizio dobbiamo:\n",
    "1. verificare quanti hanno la temperatura > 37.5\n",
    "2. sapere chi sono ad avere la temperatura > 37.5"
   ]
  },
  {
   "cell_type": "code",
   "execution_count": 41,
   "id": "62bd1607",
   "metadata": {},
   "outputs": [
    {
     "data": {
      "text/plain": [
       "3"
      ]
     },
     "execution_count": 41,
     "metadata": {},
     "output_type": "execute_result"
    }
   ],
   "source": [
    "#1.\n",
    "np.count_nonzero(temperature>37.5)"
   ]
  },
  {
   "cell_type": "code",
   "execution_count": 42,
   "id": "fc8155da",
   "metadata": {},
   "outputs": [],
   "source": [
    "#2\n",
    "#identificativi(temperature>37.5)"
   ]
  },
  {
   "cell_type": "markdown",
   "id": "194b1701",
   "metadata": {},
   "source": [
    "#### --------------------------------------------------------------------\n",
    "Per poter vedere la differenza tra python e numpy possiamo usare i **comandi magici** di jupyter.\n",
    "Sono dei comandi che verificano quanto tempo impiega.\n",
    "`%%timeit` calcola tante volte il tempo, e scrive il tempo totale, la deviazione standard, ... )"
   ]
  },
  {
   "cell_type": "code",
   "execution_count": 49,
   "id": "193755cf",
   "metadata": {},
   "outputs": [
    {
     "name": "stdout",
     "output_type": "stream",
     "text": [
      "59.6 ms ± 2.15 ms per loop (mean ± std. dev. of 7 runs, 10 loops each)\n"
     ]
    }
   ],
   "source": [
    "%%timeit\n",
    "contatore = 0\n",
    "for t in temperature:\n",
    "    if t > 37.5:\n",
    "        contatore+=1"
   ]
  },
  {
   "cell_type": "code",
   "execution_count": 3,
   "id": "cc24e7f3",
   "metadata": {},
   "outputs": [
    {
     "name": "stdout",
     "output_type": "stream",
     "text": [
      "2.06 ms ± 346 µs per loop (mean ± std. dev. of 7 runs, 100 loops each)\n"
     ]
    }
   ],
   "source": [
    "%%timeit\n",
    "np.count_nonzero(temperature>37.5)"
   ]
  },
  {
   "cell_type": "markdown",
   "id": "17b73ed4",
   "metadata": {},
   "source": [
    "#### Braccio robotico\n",
    "Un braccio robotico industriale libero di muoversi avanti e indietro lungo una rotaia è impazzito.\n",
    "Ogni secondo si muove scegliendo a casa tra due possibili movimenti: 1cm in avanti, oppure 1cm indietro. Non è possibile togliere la corrente al robot senza bloccare tutto lo stabilimento, quindi bisogna attendere lo spegnimento che si effettua tutti i finesettimana e oggi purtroppo è lunedì! Il nostro responsabile ci chiede di simulare lo spostamento totale che il rovot avrà effettuato dopo 5 interi giorni di pazzia. Il robot è partito dalla posizione centrale della rotiaia avente coordinata 0cm."
   ]
  },
  {
   "cell_type": "code",
   "execution_count": 39,
   "id": "fb9bec3b",
   "metadata": {},
   "outputs": [
    {
     "name": "stdout",
     "output_type": "stream",
     "text": [
      "il robot si sposta verso destra di 828 cm\n"
     ]
    }
   ],
   "source": [
    "#in numpy\n",
    "print(f\"il robot si sposta verso destra di {np.cumsum(np.random.choice([1, -1], 60*60*24*5))[-1]} cm\")\n"
   ]
  },
  {
   "cell_type": "markdown",
   "id": "013099ba",
   "metadata": {},
   "source": [
    "#### le classi\n",
    "Consideriamo mille classi da 25 alunni ciascuna: per ognuna di esse simuliamo il giorno di nascita di ciascun \n",
    "alunno estraendo un numero a caso tra 0 e 364 inclusi (i giorni dell'anno non bisestile sono 365): \n",
    "calcolare in quante delle mille classi ci sono almeno due alunni nati lo stesso giorno.\n"
   ]
  },
  {
   "cell_type": "code",
   "execution_count": 14,
   "id": "67b611b7",
   "metadata": {},
   "outputs": [
    {
     "name": "stdout",
     "output_type": "stream",
     "text": [
      "597\n"
     ]
    }
   ],
   "source": [
    "##### in numpy\n",
    "n_classi= 1000\n",
    "n_alunni =25\n",
    "n_persone = 0\n",
    "for _ in range (n_classi):\n",
    "    if(np.count_nonzero(np.unique(np.random.randint(0,365,n_alunni))) != n_alunni):\n",
    "        n_persone+=1\n",
    "print(n_persone)\n"
   ]
  },
  {
   "cell_type": "markdown",
   "id": "ab28b5fc",
   "metadata": {},
   "source": [
    "#### ESERCIZIO 3\n",
    "Dato un array monodimensionale di numeri, trovare la posizione di tutti i massimi locali. Ad esempio, dato l'array a = [0, 2, 1, 1, 3, 2], 2 e 3 sono massimi locali rispettivamente nelle posizioni 1 e 4.\n"
   ]
  },
  {
   "cell_type": "code",
   "execution_count": 33,
   "id": "9d92d090",
   "metadata": {},
   "outputs": [
    {
     "data": {
      "text/plain": [
       "[1, 3]"
      ]
     },
     "execution_count": 33,
     "metadata": {},
     "output_type": "execute_result"
    }
   ],
   "source": [
    "#numpy \n",
    "arr_a = np.array([0,2,1,55,48, 54])\n",
    "arr_a = [a for a in range(1,arr_a.size-1) if arr_a[a] > arr_a[a-1] and arr_a[a] > arr_a[a+1]]\n",
    "arr_a"
   ]
  },
  {
   "cell_type": "code",
   "execution_count": 22,
   "id": "57de057a",
   "metadata": {},
   "outputs": [
    {
     "name": "stdout",
     "output_type": "stream",
     "text": [
      "[2, 45, 3]\n"
     ]
    }
   ],
   "source": [
    "#python\n",
    "list_a = [0,2,1,45,3,2]\n",
    "list_c = []\n",
    "for a in range(1, len(list_a)-1):\n",
    "    if(list_a[a] > list_a[a+1]):\n",
    "        list_c.append(list_a[a])\n",
    "print(list_c)"
   ]
  },
  {
   "cell_type": "markdown",
   "id": "ed3670e2",
   "metadata": {},
   "source": [
    "#### Esercizio 4\n",
    "Dato un array monodimensionale di numeri interi compresi tra 0 e 9, generato casualmente, trovare le posizioni dell'array in cui compare la sequenza di numeri [1, 2, 3]."
   ]
  },
  {
   "cell_type": "code",
   "execution_count": 34,
   "id": "c12035e9",
   "metadata": {},
   "outputs": [
    {
     "data": {
      "text/plain": [
       "array([[ 352,  353,  354],\n",
       "       [ 426,  427,  428],\n",
       "       [ 477,  478,  479],\n",
       "       [ 483,  484,  485],\n",
       "       [ 935,  936,  937],\n",
       "       [1994, 1995, 1996],\n",
       "       [2395, 2396, 2397],\n",
       "       [3007, 3008, 3009],\n",
       "       [4046, 4047, 4048],\n",
       "       [4689, 4690, 4691],\n",
       "       [5358, 5359, 5360],\n",
       "       [5639, 5640, 5641],\n",
       "       [6260, 6261, 6262],\n",
       "       [7010, 7011, 7012],\n",
       "       [7247, 7248, 7249],\n",
       "       [7834, 7835, 7836],\n",
       "       [9446, 9447, 9448],\n",
       "       [9499, 9500, 9501],\n",
       "       [9684, 9685, 9686]])"
      ]
     },
     "execution_count": 34,
     "metadata": {},
     "output_type": "execute_result"
    }
   ],
   "source": [
    "#numpy\n",
    "array_es4 = np.random.randint(0,9, 10000)\n",
    "\n",
    "arr_indici_uguali = np.array([(a,a+1,a+2) for a in range(array_es4.size-2) if (array_es4[a:a+3] == np.array([1,2,3])).all()])\n",
    "arr_indici_uguali"
   ]
  },
  {
   "cell_type": "code",
   "execution_count": 46,
   "id": "5d5d1299",
   "metadata": {},
   "outputs": [
    {
     "data": {
      "text/plain": [
       "array([5, 6, 3, ..., 5, 0, 1])"
      ]
     },
     "execution_count": 46,
     "metadata": {},
     "output_type": "execute_result"
    }
   ],
   "source": [
    "array_e = np.random.randint(0,9, 2000)\n",
    "array_e"
   ]
  },
  {
   "cell_type": "code",
   "execution_count": 49,
   "id": "aa6fc618",
   "metadata": {},
   "outputs": [
    {
     "data": {
      "text/plain": [
       "array([280, 348])"
      ]
     },
     "execution_count": 49,
     "metadata": {},
     "output_type": "execute_result"
    }
   ],
   "source": [
    "array_con = np.logical_and(np.logical_and(array_e == 1, np.roll(array_e, -1) == 2), \n",
    "               np.roll(array_e, -2) ==3)\n",
    "np.arange(2000)[array_con]"
   ]
  },
  {
   "cell_type": "code",
   "execution_count": 168,
   "id": "69a40c6e",
   "metadata": {},
   "outputs": [
    {
     "data": {
      "text/plain": [
       "[(939, 940, 941)]"
      ]
     },
     "execution_count": 168,
     "metadata": {},
     "output_type": "execute_result"
    }
   ],
   "source": [
    "#python\n",
    "import random\n",
    "\n",
    "lista_Es4 = []\n",
    "lista_indici_uguali = []\n",
    "for _ in range(1000):\n",
    "    lista_Es4.append(random.randint(0,9))\n",
    "for a in range(len(lista_Es4)-2):\n",
    "    if lista_Es4[a:a+3] == [1,2,3]:\n",
    "        lista_indici_uguali.append((a,a+1,a+2))\n",
    "lista_indici_uguali"
   ]
  },
  {
   "cell_type": "markdown",
   "id": "d290b201",
   "metadata": {},
   "source": [
    "#### Esercizio 5\n",
    "Sul territorio comunale sono installate tre centraline per la misurazione del livello di polveri sottili PM10 nell'aria. Talvolta le centraline vanno in uno stato di errore per cui la misurazione delle PM10 fallisce ed il dato corrispondente riporta il valore 9999.9 all'interno dell'array delle misurazioni. Inoltre, per motivi sconosciuti, talvolta le centraline riportano il valore -1. Statisticamente si è visto che il primo errore ha una frequenza dello 0.2% mentre il secondo del 0.1%\n",
    "Creare una matrice avente 3 colonne e le righe contenente i dati di tutte le centraline registrati nelle 24 ore (si registra il dato ogni minuto)\n",
    "Eliminare tutte le righe della matrice in cui vi sia almeno una misura errata o una misura di origine sconosciuta"
   ]
  },
  {
   "cell_type": "code",
   "execution_count": 182,
   "id": "1e98554f",
   "metadata": {},
   "outputs": [
    {
     "data": {
      "text/plain": [
       "array([29, 30, 22, ..., 28, 31, 11])"
      ]
     },
     "execution_count": 182,
     "metadata": {},
     "output_type": "execute_result"
    }
   ],
   "source": [
    "#numpy\n",
    "num_minuti = 24*60\n",
    "valore_0_2_non_percentuale = 0.2/100\n",
    "valore_0_1_non_percentuale = 0.1/100\n",
    "\n",
    "def num_random(a):\n",
    "    val = np.random.random()\n",
    "    if val < valore_0_1_non_percentuale:\n",
    "        return 9999\n",
    "    elif val < valore_0_2_non_percentuale:\n",
    "        return -1\n",
    "    else:\n",
    "        return np.random.randint(0,40)\n",
    "\n",
    "\n",
    "num_random_v = np.vectorize(num_random)\n",
    "\n",
    "matrice = np.ones((num_minuti, 3))\n",
    "\n",
    "matrice = num_random_v(matrice)\n",
    "\n",
    "risultati_validi = matrice[[[matrice[a][i] != 9999.9 and matrice[a][i] !=-1 for i in range(3)] for a in range(24*60)]]\n",
    "risultati_validi"
   ]
  },
  {
   "cell_type": "code",
   "execution_count": 36,
   "id": "95394e48",
   "metadata": {},
   "outputs": [
    {
     "ename": "NameError",
     "evalue": "name 'num_minuti' is not defined",
     "output_type": "error",
     "traceback": [
      "\u001b[0;31m---------------------------------------------------------------------------\u001b[0m",
      "\u001b[0;31mNameError\u001b[0m                                 Traceback (most recent call last)",
      "\u001b[0;32m<ipython-input-36-64f3909b4c80>\u001b[0m in \u001b[0;36m<module>\u001b[0;34m\u001b[0m\n\u001b[1;32m     15\u001b[0m \u001b[0;31m# creazione matrice\u001b[0m\u001b[0;34m\u001b[0m\u001b[0;34m\u001b[0m\u001b[0;34m\u001b[0m\u001b[0m\n\u001b[1;32m     16\u001b[0m \u001b[0mmatrice\u001b[0m \u001b[0;34m=\u001b[0m \u001b[0;34m[\u001b[0m\u001b[0;34m]\u001b[0m\u001b[0;34m\u001b[0m\u001b[0;34m\u001b[0m\u001b[0m\n\u001b[0;32m---> 17\u001b[0;31m \u001b[0;32mfor\u001b[0m \u001b[0m_\u001b[0m \u001b[0;32min\u001b[0m \u001b[0mrange\u001b[0m\u001b[0;34m(\u001b[0m\u001b[0mnum_minuti\u001b[0m\u001b[0;34m)\u001b[0m\u001b[0;34m:\u001b[0m\u001b[0;34m\u001b[0m\u001b[0;34m\u001b[0m\u001b[0m\n\u001b[0m\u001b[1;32m     18\u001b[0m \u001b[0;34m\u001b[0m\u001b[0m\n\u001b[1;32m     19\u001b[0m     \u001b[0mriga\u001b[0m \u001b[0;34m=\u001b[0m \u001b[0;34m[\u001b[0m\u001b[0;34m]\u001b[0m\u001b[0;34m\u001b[0m\u001b[0;34m\u001b[0m\u001b[0m\n",
      "\u001b[0;31mNameError\u001b[0m: name 'num_minuti' is not defined"
     ]
    }
   ],
   "source": [
    "#python\n",
    "import random\n",
    "\n",
    "# generatore di numeri random\n",
    "def num_random():\n",
    "    val = random.random()\n",
    "    if val < valore_0_1_non_percentuale:\n",
    "        return 9999.9\n",
    "    elif val < valore_0_2_non_percentuale:\n",
    "        return -1\n",
    "    else:\n",
    "        return random.randint(0,40)\n",
    "    \n",
    "\n",
    "# creazione matrice\n",
    "matrice = []\n",
    "for _ in range(num_minuti):\n",
    "    \n",
    "    riga = []\n",
    "    \n",
    "    for _ in range(3):\n",
    "        riga.append(num_random())\n",
    "        \n",
    "    matrice.append(riga)\n",
    "    \n",
    "print(matrice)\n",
    "\n",
    "# trovare gli array da eliminare\n",
    "array_indici_da_eliminare = []\n",
    "for i, val in enumerate(matrice):\n",
    "    if -1 in val or 9999.9 in val:\n",
    "        matrice.pop(i)\n",
    "\n",
    "print(\"\\n\\n\")\n",
    "print(matrice)\n",
    "            "
   ]
  },
  {
   "cell_type": "markdown",
   "id": "93a9c861",
   "metadata": {},
   "source": [
    "Per quanto riguarda l'esercizio dei compleanni, se volessimo calcolare **matematicamente** la probabilità che tutti abbiano il compleanno in un giorno diverso dovremmo fare:\n",
    "`P_comp_differente = 365/365 * 364/365 * ... n volte` → quindi se definiamo `n` come il numero di persone in una classe, la formula è : `P_comp_differente = 364/365 * 365/365 * (365-n+1)/365`\n",
    "\n",
    "Di conseguenza volessimo sapere la probabilità che in una classe ci siano 2 o più persone nate nello stesso giorno è:\n",
    "`P_comp_uguale = 1 - P_comp_differente`"
   ]
  },
  {
   "cell_type": "code",
   "execution_count": null,
   "id": "b226b7ad",
   "metadata": {},
   "outputs": [],
   "source": []
  }
 ],
 "metadata": {
  "kernelspec": {
   "display_name": "Python 3",
   "language": "python",
   "name": "python3"
  },
  "language_info": {
   "codemirror_mode": {
    "name": "ipython",
    "version": 3
   },
   "file_extension": ".py",
   "mimetype": "text/x-python",
   "name": "python",
   "nbconvert_exporter": "python",
   "pygments_lexer": "ipython3",
   "version": "3.8.8"
  }
 },
 "nbformat": 4,
 "nbformat_minor": 5
}
