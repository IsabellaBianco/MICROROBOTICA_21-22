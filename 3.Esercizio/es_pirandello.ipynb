{
 "cells": [
  {
   "cell_type": "markdown",
   "id": "77377fcb",
   "metadata": {},
   "source": [
    "## Sei personaggi in cerca di autore\n",
    "\n",
    "1. Leggere il file .txt e creare un dizionario frequenze dove mettiamo come chiavi le varie parole che utilizza e come valore il numero di volte che lo utilizza\n",
    "\n",
    "2. Fare un dizionario chiamato adiacenze, dove le chiavi sono le possibili parole, mentre il valore è una lista con le parole che succedono la parola: Ad esempio \"il giorno, ... \" -> il è la chiave e all'interno della lista metto giorno"
   ]
  },
  {
   "cell_type": "code",
   "execution_count": null,
   "id": "b281b4a2",
   "metadata": {},
   "outputs": [],
   "source": [
    "import random"
   ]
  },
  {
   "cell_type": "code",
   "execution_count": null,
   "id": "9cb77e23",
   "metadata": {
    "scrolled": false
   },
   "outputs": [],
   "source": [
    "#Creo i due dizionari\n",
    "frequenze = {}\n",
    "adiacenze = {}\n",
    "\n",
    "CARATTERI_DA_RIMUOVERE = [\"\\n\", \"\\r\", \"\\t\", \"(\", \")\", \"[\", \"]\", \"{\", \"}\", \".\", \",\", \";\", \":\", \"?\", \"!\", \"-\", \"«\", \"»\"]\n",
    "\n",
    "#Apro il file .txt\n",
    "file = open(\"./sei_personaggi_in_cerca_dautore_Luigi_Pirandello.txt\", \"r\")\n",
    "\n",
    "\n",
    "for riga in file.readlines():\n",
    "    riga = ''.join(i for i in riga if not i in CARATTERI_DA_RIMUOVERE)\n",
    "    lista_parole = riga.lower().split(\" \")\n",
    "    \n",
    "    for parola in lista_parole:\n",
    "        #Se la parola non è ['']\n",
    "        if len(parola) !=0:\n",
    "            if parola in frequenze.keys():\n",
    "                frequenze[parola]+=1\n",
    "                if(len(lista_parole) !=  lista_parole.index(parola)+1 and\n",
    "                   lista_parole[lista_parole.index(parola)+1] not in adiacenze[parola]):\n",
    "                    adiacenze[parola].append(lista_parole[lista_parole.index(parola)+1])\n",
    "            else:\n",
    "                frequenze[parola] = 1\n",
    "                if(len(lista_parole) !=  lista_parole.index(parola)+1):\n",
    "                    adiacenze[parola] = [lista_parole[lista_parole.index(parola)+1]]\n",
    "                else:\n",
    "                    adiacenze[parola] = []\n",
    "\n",
    "print(f\"Dizionario di frequenza {frequenze}\")\n",
    "print(f\"\\n\\n\\n\\n\\n\\n\\n\\n\\n\\n Dizionario di adiacenze {adiacenze}\")\n",
    "    \n",
    "file.close()"
   ]
  },
  {
   "cell_type": "code",
   "execution_count": null,
   "id": "9d7cb1be",
   "metadata": {},
   "outputs": [],
   "source": [
    "#Scrivere un programma che calcola le 10 più efficienti\n",
    "n_parole = input(\"Inserisci il numero di parole con la massima frequenza: \")\n",
    "parole_frequenti = []\n",
    "\n",
    "lista_frequenze_ordinato = sorted(frequenze.items(), key=lambda x: x[1], reverse=True)\n",
    "\n",
    "index = 1\n",
    "for tupla in lista_frequenze_ordinato[:int(n_parole)]:\n",
    "    print(f\"La {index}° parola più frequente è «{tupla[0]}» che è stata ripetuta {tupla[1]} volte.\")\n",
    "    index +=1"
   ]
  },
  {
   "cell_type": "code",
   "execution_count": null,
   "id": "02c15114",
   "metadata": {},
   "outputs": [],
   "source": [
    "#Estrarre a sorte una parola e creare una frase\n",
    "print(\"La frase creata è: \")\n",
    "parola_trovata = random.choice(list(adiacenze.items()))[0]\n",
    "print(f\" {parola_trovata}\", end=\"\")\n",
    "while len(adiacenze[parola_trovata]) != 0 :\n",
    "    parola_trovata = random.choice(adiacenze[parola_trovata])\n",
    "    print(f\" {parola_trovata}\", end=\"\")\n"
   ]
  }
 ],
 "metadata": {
  "kernelspec": {
   "display_name": "Python 3",
   "language": "python",
   "name": "python3"
  },
  "language_info": {
   "codemirror_mode": {
    "name": "ipython",
    "version": 3
   },
   "file_extension": ".py",
   "mimetype": "text/x-python",
   "name": "python",
   "nbconvert_exporter": "python",
   "pygments_lexer": "ipython3",
   "version": "3.8.8"
  }
 },
 "nbformat": 4,
 "nbformat_minor": 5
}
