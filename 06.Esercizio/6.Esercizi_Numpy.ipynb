{
 "cells": [
  {
   "cell_type": "code",
   "execution_count": 4,
   "id": "0a84194e",
   "metadata": {},
   "outputs": [],
   "source": [
    "import numpy as np"
   ]
  },
  {
   "cell_type": "markdown",
   "id": "c7330dc3",
   "metadata": {},
   "source": [
    "1) Creare una funzione che inverta un ndarray monodimensionale, ovvero crei un array monodimensionale con gli stessi elementi dell'array di partenza in ordine inverso."
   ]
  },
  {
   "cell_type": "code",
   "execution_count": 5,
   "id": "b7660aef",
   "metadata": {},
   "outputs": [
    {
     "name": "stdout",
     "output_type": "stream",
     "text": [
      "[5 4 3 2 1]\n"
     ]
    }
   ],
   "source": [
    "#primo modo\n",
    "arr1 = np.array([1,2,3,4,5])\n",
    "\n",
    "def inverti_array(array_da_invertire):\n",
    "    return np.array([array_da_invertire[-a] for a in range(1,len(array_da_invertire)+1)])\n",
    "\n",
    "print(inverti_array(arr1))\n",
    "    "
   ]
  },
  {
   "cell_type": "code",
   "execution_count": 9,
   "id": "bc68d619",
   "metadata": {},
   "outputs": [
    {
     "data": {
      "text/plain": [
       "array([5, 4, 3, 2, 1])"
      ]
     },
     "execution_count": 9,
     "metadata": {},
     "output_type": "execute_result"
    }
   ],
   "source": [
    "#secondo modo\n",
    "arr1[::-1]"
   ]
  },
  {
   "cell_type": "code",
   "execution_count": 11,
   "id": "bd303a5d",
   "metadata": {},
   "outputs": [
    {
     "data": {
      "text/plain": [
       "array([5, 4, 3, 2, 1])"
      ]
     },
     "execution_count": 11,
     "metadata": {},
     "output_type": "execute_result"
    }
   ],
   "source": [
    "#terzo modo\n",
    "np.flip(arr1)"
   ]
  },
  {
   "cell_type": "markdown",
   "id": "5866d1da",
   "metadata": {},
   "source": [
    "2) Generare un array Numpy che contenga le posizioni dei primi 100 numeri primi all'interno dei numeri naturali"
   ]
  },
  {
   "cell_type": "code",
   "execution_count": 6,
   "id": "bf5a5a88",
   "metadata": {},
   "outputs": [
    {
     "name": "stdout",
     "output_type": "stream",
     "text": [
      "[  2   3   5   7  11  13  17  19  23  29  31  37  41  43  47  53  59  61\n",
      "  67  71  73  79  83  89  97 101 103 107 109 113 127 131 137 139 149 151\n",
      " 157 163 167 173 179 181 191 193 197 199 211 223 227 229 233 239 241 251\n",
      " 257 263 269 271 277 281 283 293 307 311 313 317 331 337 347 349 353 359\n",
      " 367 373 379 383 389 397 401 409 419 421 431 433 439 443 449 457 461 463\n",
      " 467 479 487 491 499 503 509 521 523 541]\n"
     ]
    }
   ],
   "source": [
    "#primo modo\n",
    "def crea_array_numeri_primi(n_primi):\n",
    "    a = 2\n",
    "    arr_n_primi = []\n",
    "    while len(arr_n_primi) != n_primi:\n",
    "        ePrimo = True\n",
    "        for num in arr_n_primi:\n",
    "            if a%num == 0: \n",
    "                ePrimo = False\n",
    "                num = arr_n_primi[-1]\n",
    "        if ePrimo:arr_n_primi.append(a)\n",
    "        a+=1\n",
    "    return np.array(arr_n_primi)\n",
    "\n",
    "print(crea_array_numeri_primi(100))\n",
    "            "
   ]
  },
  {
   "cell_type": "code",
   "execution_count": 13,
   "id": "f1380aae",
   "metadata": {},
   "outputs": [
    {
     "data": {
      "text/plain": [
       "array([  3,   4,   6,   8,  12,  14,  18,  20,  24,  30,  32,  38,  42,\n",
       "        44,  48,  54,  60,  62,  68,  72,  74,  80,  84,  90,  98, 102,\n",
       "       104, 108, 110, 114, 128, 132, 138, 140, 150, 152, 158, 164, 168,\n",
       "       174, 180, 182, 192, 194, 198, 200, 212, 224, 228, 230, 234, 240,\n",
       "       242, 252, 258, 264, 270, 272, 278, 282, 284, 294, 308, 312, 314,\n",
       "       318, 332, 338, 348, 350, 354, 360, 368, 374, 380, 384, 390, 398,\n",
       "       402, 410, 420, 422, 432, 434, 440, 444, 450, 458, 462, 464, 468,\n",
       "       480, 488, 492, 500, 504, 510, 522, 524, 542])"
      ]
     },
     "execution_count": 13,
     "metadata": {},
     "output_type": "execute_result"
    }
   ],
   "source": [
    "#secondo modo\n",
    "def isprime(n):\n",
    "    ret = True\n",
    "    for i in range(2,int(n**0.5)+1):\n",
    "        if n%i==0:\n",
    "            ret = False\n",
    "            break\n",
    "    return ret\n",
    "#Vettorizzare significa che analizza ogni elemento dell'array numpy e crea un array di True e False\n",
    "isprime_v = np.vectorize(isprime)\n",
    "natural_n = np.arange(2,1000)\n",
    "#Praticamente in questo ritorna gli elementi solo con valore True\n",
    "(natural_n[isprime_v(natural_n)]+1)[:100]"
   ]
  },
  {
   "cell_type": "markdown",
   "id": "1d18b63c",
   "metadata": {},
   "source": [
    "3) Generare un array Numpy contenente i primi 10 numeri di Fibonacci"
   ]
  },
  {
   "cell_type": "code",
   "execution_count": 17,
   "id": "19b67a4a",
   "metadata": {},
   "outputs": [
    {
     "name": "stdout",
     "output_type": "stream",
     "text": [
      "[ 1  2  3  5  8 13 21 34 55 89]\n"
     ]
    }
   ],
   "source": [
    "#primo modo\n",
    "def crea_seq_fibonacci(n_numeri):\n",
    "    array_seq_fibonacci = [1,1]\n",
    "    for _ in range(2,n_numeri+1):\n",
    "        array_seq_fibonacci.append((array_seq_fibonacci[-1]+array_seq_fibonacci[-2]))\n",
    "    return np.array(array_seq_fibonacci[1:])\n",
    "                                   \n",
    "print(crea_seq_fibonacci(10))"
   ]
  },
  {
   "cell_type": "code",
   "execution_count": 15,
   "id": "40257721",
   "metadata": {},
   "outputs": [
    {
     "data": {
      "text/plain": [
       "array([ 1,  2,  3,  5,  8, 13, 21, 34, 55, 89])"
      ]
     },
     "execution_count": 15,
     "metadata": {},
     "output_type": "execute_result"
    }
   ],
   "source": [
    "#secondo modo\n",
    "n = 11\n",
    "start = np.ones(11,dtype=int)\n",
    "for i in range(2,n):\n",
    "    start[i]=start[i-1]+start[i-2]\n",
    "start[1:]"
   ]
  },
  {
   "cell_type": "code",
   "execution_count": null,
   "id": "bf9ca9f8",
   "metadata": {},
   "outputs": [],
   "source": []
  }
 ],
 "metadata": {
  "kernelspec": {
   "display_name": "Python 3",
   "language": "python",
   "name": "python3"
  },
  "language_info": {
   "codemirror_mode": {
    "name": "ipython",
    "version": 3
   },
   "file_extension": ".py",
   "mimetype": "text/x-python",
   "name": "python",
   "nbconvert_exporter": "python",
   "pygments_lexer": "ipython3",
   "version": "3.8.8"
  }
 },
 "nbformat": 4,
 "nbformat_minor": 5
}
