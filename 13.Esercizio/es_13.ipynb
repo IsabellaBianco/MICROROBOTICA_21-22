{
 "cells": [
  {
   "cell_type": "markdown",
   "id": "c8515123",
   "metadata": {},
   "source": [
    "### ESERCIZIO STAZIONI METEOROLOGICHE\n",
    "Dati i file csv presenti, creare un dizionario che contenga per ogni giorno la quantità di neve al suolo, la quantità di neve fresca, la temperatura massima, la temperatura minima e la temperatura media"
   ]
  },
  {
   "cell_type": "code",
   "execution_count": 1,
   "id": "baf62559",
   "metadata": {},
   "outputs": [],
   "source": [
    "import numpy as np"
   ]
  },
  {
   "cell_type": "code",
   "execution_count": 9,
   "id": "1836a576",
   "metadata": {},
   "outputs": [],
   "source": [
    "#Creazione delle variabili\n",
    "dizionario_dati_SM = {}"
   ]
  },
  {
   "cell_type": "code",
   "execution_count": 16,
   "id": "e012ad5c",
   "metadata": {},
   "outputs": [],
   "source": [
    "def memorizzazione_dati(file_neve, file_temperatura, localita):\n",
    "    dizionario_dati_SM[f\"{localita}_data\"] = np.genfromtxt(file_neve, dtype=str, delimiter=\" ,\", skip_header=10, skip_footer=1, usecols=0, filling_values=\"9999\")\n",
    "    dizionario_dati_SM[f\"{localita}_neve_suolo\"] = np.genfromtxt(file_neve, delimiter=\" ,\", skip_header=10, skip_footer=1, usecols=1, filling_values=9999)\n",
    "    dizionario_dati_SM[f\"{localita}_neve_fresca\"] = np.genfromtxt(file_neve, delimiter=\" ,\", skip_header=10, skip_footer=1, usecols=2, filling_values=9999)\n",
    "    dizionario_dati_SM[f\"{localita}_t_min\"] = np.genfromtxt(file_temperatura, delimiter=\" ,\", skip_header=10, skip_footer=1, usecols=2, filling_values=9999)\n",
    "    dizionario_dati_SM[f\"{localita}_t_media\"] = np.genfromtxt(file_temperatura, delimiter=\" ,\", skip_header=10, skip_footer=1, usecols=4, filling_values=9999)\n",
    "    dizionario_dati_SM[f\"{localita}_t_max\"] = np.genfromtxt(file_temperatura, delimiter=\" ,\", skip_header=10, skip_footer=1, usecols=7, filling_values=9999)  "
   ]
  },
  {
   "cell_type": "code",
   "execution_count": 17,
   "id": "e416e80b",
   "metadata": {
    "scrolled": true
   },
   "outputs": [],
   "source": [
    "memorizzazione_dati(\"./richiesta_dati_gg_80749_parte4.csv\", \"./richiesta_dati_gg_80749_parte1.csv\", \"colle_Agnello\")\n",
    "memorizzazione_dati(\"./richiesta_dati_gg_80749_parte2.csv\", \"./richiesta_dati_gg_80749_parte3.csv\", \"diga_Chiotas\")"
   ]
  },
  {
   "cell_type": "markdown",
   "id": "9503a9a9",
   "metadata": {},
   "source": [
    "##### Richieste\n",
    "1. n° di giorni totali senza neve al suolo nelle due stazioni"
   ]
  },
  {
   "cell_type": "code",
   "execution_count": 19,
   "id": "11579553",
   "metadata": {},
   "outputs": [
    {
     "data": {
      "text/plain": [
       "375"
      ]
     },
     "execution_count": 19,
     "metadata": {},
     "output_type": "execute_result"
    }
   ],
   "source": [
    "np.count_nonzero(np.logical_and(dizionario_dati_SM[\"colle_Agnello_neve_suolo\"] == 0, \n",
    "                  dizionario_dati_SM[\"diga_Chiotas_neve_suolo\"][:-1] == 0))"
   ]
  },
  {
   "cell_type": "markdown",
   "id": "7b7a5d0e",
   "metadata": {},
   "source": [
    "2. n° di giorni nell'anno 2020 in cui la media delle temperature medie delle due stazioni è minore o uguale a zero."
   ]
  },
  {
   "cell_type": "code",
   "execution_count": 21,
   "id": "4ed06151",
   "metadata": {},
   "outputs": [
    {
     "data": {
      "text/plain": [
       "114"
      ]
     },
     "execution_count": 21,
     "metadata": {},
     "output_type": "execute_result"
    }
   ],
   "source": [
    "indice_iniziale = int(np.where(dizionario_dati_SM[\"colle_Agnello_data\"]=='01/01/2020')[0])\n",
    "indice_finale = int(np.where(dizionario_dati_SM[\"colle_Agnello_data\"]=='31/12/2020')[0])+1\n",
    "\n",
    "np.count_nonzero((dizionario_dati_SM[\"colle_Agnello_t_media\"][indice_iniziale:indice_finale]\n",
    "                  +dizionario_dati_SM[\"diga_Chiotas_t_media\"][indice_iniziale:indice_finale])/2 <= 0)"
   ]
  },
  {
   "cell_type": "markdown",
   "id": "32e54a56",
   "metadata": {},
   "source": [
    "3. n° di giorni nell'anno 2019 in cui c'è neve al suolo e la temperatura media è maggiore di 0°C per entrambe le stazioni."
   ]
  },
  {
   "cell_type": "code",
   "execution_count": 22,
   "id": "2d1dd7e5",
   "metadata": {},
   "outputs": [
    {
     "data": {
      "text/plain": [
       "76"
      ]
     },
     "execution_count": 22,
     "metadata": {},
     "output_type": "execute_result"
    }
   ],
   "source": [
    "indice_iniziale = int(np.where(dizionario_dati_SM[\"colle_Agnello_data\"]=='01/01/2019')[0])\n",
    "indice_finale = int(np.where(dizionario_dati_SM[\"colle_Agnello_data\"]=='31/12/2019')[0])+1\n",
    "\n",
    "np.count_nonzero(np.logical_and((dizionario_dati_SM[\"colle_Agnello_t_media\"][indice_iniziale:indice_finale]\n",
    "                  +dizionario_dati_SM[\"diga_Chiotas_t_media\"][indice_iniziale:indice_finale])/2 >= 0, \n",
    "                 np.logical_and(dizionario_dati_SM[\"colle_Agnello_neve_suolo\"][indice_iniziale:indice_finale] > 0, \n",
    "                  dizionario_dati_SM[\"diga_Chiotas_neve_suolo\"][indice_iniziale:indice_finale] > 0)))  "
   ]
  },
  {
   "cell_type": "code",
   "execution_count": null,
   "id": "9c2053bc",
   "metadata": {},
   "outputs": [],
   "source": []
  }
 ],
 "metadata": {
  "kernelspec": {
   "display_name": "Python 3",
   "language": "python",
   "name": "python3"
  },
  "language_info": {
   "codemirror_mode": {
    "name": "ipython",
    "version": 3
   },
   "file_extension": ".py",
   "mimetype": "text/x-python",
   "name": "python",
   "nbconvert_exporter": "python",
   "pygments_lexer": "ipython3",
   "version": "3.8.8"
  }
 },
 "nbformat": 4,
 "nbformat_minor": 5
}
