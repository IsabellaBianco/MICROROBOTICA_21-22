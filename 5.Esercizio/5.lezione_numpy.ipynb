{
 "cells": [
  {
   "cell_type": "code",
   "execution_count": 1,
   "id": "43cb8bfe",
   "metadata": {},
   "outputs": [],
   "source": [
    "import numpy as np"
   ]
  },
  {
   "cell_type": "code",
   "execution_count": 3,
   "id": "ae8ad709",
   "metadata": {},
   "outputs": [
    {
     "name": "stdout",
     "output_type": "stream",
     "text": [
      "[1 2 3 4 5 6]\n"
     ]
    }
   ],
   "source": [
    "#Come passare da liste ad array numpy, utilizzando il costruttore\n",
    "lista = [1,2,3,4,5,6]\n",
    "\n",
    "lista_array = np.array(lista)\n",
    "print(lista_array)"
   ]
  },
  {
   "cell_type": "markdown",
   "id": "0eef452d",
   "metadata": {},
   "source": [
    "Si può vedere che sono oggetti differenti"
   ]
  },
  {
   "cell_type": "code",
   "execution_count": 8,
   "id": "cc2b660f",
   "metadata": {},
   "outputs": [
    {
     "data": {
      "text/plain": [
       "array([1, 2, 3, 4, 5, 6])"
      ]
     },
     "execution_count": 8,
     "metadata": {},
     "output_type": "execute_result"
    }
   ],
   "source": [
    "lista_array"
   ]
  },
  {
   "cell_type": "code",
   "execution_count": 9,
   "id": "1abdefce",
   "metadata": {},
   "outputs": [
    {
     "data": {
      "text/plain": [
       "[1, 2, 3, 4, 5, 6]"
      ]
     },
     "execution_count": 9,
     "metadata": {},
     "output_type": "execute_result"
    }
   ],
   "source": [
    "lista"
   ]
  },
  {
   "cell_type": "code",
   "execution_count": 16,
   "id": "f0593671",
   "metadata": {},
   "outputs": [
    {
     "data": {
      "text/plain": [
       "array([[0, 0, 0, 0, 0, 0, 0, 0, 0, 0],\n",
       "       [0, 0, 0, 0, 0, 0, 0, 0, 0, 0],\n",
       "       [0, 0, 0, 0, 0, 0, 0, 0, 0, 0],\n",
       "       [0, 0, 0, 0, 0, 0, 0, 0, 0, 0],\n",
       "       [0, 0, 0, 0, 0, 0, 0, 0, 0, 0]])"
      ]
     },
     "execution_count": 16,
     "metadata": {},
     "output_type": "execute_result"
    }
   ],
   "source": [
    "#fa un array di n dimensioni(prende il nome di shape ed è caratterizzata da un tupla), di n tipi\n",
    "np.zeros((5,10), dtype=int)"
   ]
  },
  {
   "cell_type": "code",
   "execution_count": 18,
   "id": "f1268ece",
   "metadata": {},
   "outputs": [
    {
     "data": {
      "text/plain": [
       "array([[1., 1., 1., 1., 1., 1., 1., 1., 1., 1.],\n",
       "       [1., 1., 1., 1., 1., 1., 1., 1., 1., 1.],\n",
       "       [1., 1., 1., 1., 1., 1., 1., 1., 1., 1.],\n",
       "       [1., 1., 1., 1., 1., 1., 1., 1., 1., 1.],\n",
       "       [1., 1., 1., 1., 1., 1., 1., 1., 1., 1.]])"
      ]
     },
     "execution_count": 18,
     "metadata": {},
     "output_type": "execute_result"
    }
   ],
   "source": [
    "np.ones((5,10), dtype=float)"
   ]
  },
  {
   "cell_type": "code",
   "execution_count": 28,
   "id": "cb945fc1",
   "metadata": {},
   "outputs": [
    {
     "data": {
      "text/plain": [
       "array([6.34812148, 7.70572689, 5.80187997, 6.96680989, 7.76363456,\n",
       "       5.62445074, 7.9837914 , 6.55081626, 7.78485869, 5.20183564])"
      ]
     },
     "execution_count": 28,
     "metadata": {},
     "output_type": "execute_result"
    }
   ],
   "source": [
    "#con la size si ha la dimensione dell'array che restituisce\n",
    "np.random.uniform(low=5, high=8, size=10)"
   ]
  },
  {
   "cell_type": "code",
   "execution_count": 31,
   "id": "ac0af890",
   "metadata": {},
   "outputs": [
    {
     "data": {
      "text/plain": [
       "array([ 9.05878944,  8.58650424,  9.94833842,  7.86588057,  9.17651528,\n",
       "       10.94451291, 10.62989292,  9.80634793, 11.69999154,  8.31325657])"
      ]
     },
     "execution_count": 31,
     "metadata": {},
     "output_type": "execute_result"
    }
   ],
   "source": [
    "#in numpy può tirare a sorte una distruzione gaussiana o normale\n",
    "#la gaussiana è centrata sullo 0 e si può cambiare con loc e con scale\n",
    "#che dice quanto è larga o stretta la gaussiana\n",
    "np.random.normal(loc=10, scale=1, size=10)"
   ]
  },
  {
   "cell_type": "code",
   "execution_count": 37,
   "id": "5c1bd204",
   "metadata": {},
   "outputs": [
    {
     "data": {
      "text/plain": [
       "array([6, 6, 2, 5, 5, 2, 5, 1, 5, 6])"
      ]
     },
     "execution_count": 37,
     "metadata": {},
     "output_type": "execute_result"
    }
   ],
   "source": [
    "#per tirare a sorte numeri interi (sia low che high sono inclusi). Sono distribuiti in maniera uniforme\n",
    "np.random.randint(low=1, high=7, size=10)"
   ]
  },
  {
   "cell_type": "code",
   "execution_count": 41,
   "id": "dd17c367",
   "metadata": {},
   "outputs": [
    {
     "data": {
      "text/plain": [
       "array(['Croce', 'Croce', 'Testa', 'Croce', 'Croce', 'Testa', 'Croce',\n",
       "       'Testa', 'Testa', 'Croce'], dtype='<U5')"
      ]
     },
     "execution_count": 41,
     "metadata": {},
     "output_type": "execute_result"
    }
   ],
   "source": [
    "#c'è un'altra funzioe random, che permette di scegliere casualmente valori presenti in una lista o array\n",
    "np.random.choice([\"Testa\", \"Croce\"], size=10)"
   ]
  },
  {
   "cell_type": "markdown",
   "id": "34af0a63",
   "metadata": {},
   "source": [
    "## NB\n",
    "le dimensioni spaziali che servono per rappresentare gli array si utilizzano degli assi standard:\n",
    "- l'array 1D si chiama asse0 (axis0)\n",
    "- l'array 2D ha l'asse 0 quello delle righe e l'asse 1 quello delle colonne\n",
    "- l'array 3D è uguale al 2D con l'asse 2 che è la profondità.\n",
    "----------------------------------"
   ]
  },
  {
   "cell_type": "code",
   "execution_count": 49,
   "id": "9301ffc3",
   "metadata": {},
   "outputs": [
    {
     "data": {
      "text/plain": [
       "(4, 5)"
      ]
     },
     "execution_count": 49,
     "metadata": {},
     "output_type": "execute_result"
    }
   ],
   "source": [
    "#shape di un array 2D\n",
    "matrice = np.random.uniform(size=(4,5))\n",
    "np.shape(matrice)"
   ]
  },
  {
   "cell_type": "code",
   "execution_count": 50,
   "id": "7bb632cd",
   "metadata": {},
   "outputs": [
    {
     "data": {
      "text/plain": [
       "(5,)"
      ]
     },
     "execution_count": 50,
     "metadata": {},
     "output_type": "execute_result"
    }
   ],
   "source": [
    "#shape di un array 1D\n",
    "vettore = np.array([1,2,3,4,5])\n",
    "np.shape(vettore)"
   ]
  },
  {
   "cell_type": "code",
   "execution_count": 53,
   "id": "0c233946",
   "metadata": {},
   "outputs": [
    {
     "name": "stdout",
     "output_type": "stream",
     "text": [
      "[0.47554774 0.32171455 0.59776217 0.13881394 0.7163944  0.34899172\n",
      " 0.8007524  0.88639373 0.00481521 0.73808497 0.26358035 0.92309497\n",
      " 0.37535401 0.66567328 0.23438801 0.66400632 0.88465112 0.47242373\n",
      " 0.35283068 0.21685708]\n"
     ]
    }
   ],
   "source": [
    "#serve per trasformare array 2D, in array 1D\n",
    "matrice1 = np.ravel(matrice)\n",
    "print(matrice1)"
   ]
  },
  {
   "cell_type": "code",
   "execution_count": 57,
   "id": "4ab23c24",
   "metadata": {},
   "outputs": [
    {
     "name": "stdout",
     "output_type": "stream",
     "text": [
      "3\n",
      "0.6656732782581452\n"
     ]
    }
   ],
   "source": [
    "#per accedere agli array si deve fare:\n",
    "\n",
    "\"\"\"Nel caso sia 1D\"\"\"\n",
    "print(vettore[2])\n",
    "\n",
    "\"\"\"Nel caso sia 2D\"\"\"\n",
    "print(matrice[2][3])\n"
   ]
  },
  {
   "cell_type": "code",
   "execution_count": 59,
   "id": "3a03ea72",
   "metadata": {
    "scrolled": true
   },
   "outputs": [
    {
     "name": "stdout",
     "output_type": "stream",
     "text": [
      "[[1.11111100e+05 3.21714554e-01 5.97762166e-01 1.38813945e-01\n",
      "  7.16394402e-01]\n",
      " [3.48991719e-01 8.00752400e-01 8.86393725e-01 4.81521487e-03\n",
      "  7.38084970e-01]\n",
      " [2.63580350e-01 9.23094966e-01 3.75354015e-01 6.65673278e-01\n",
      "  2.34388011e-01]\n",
      " [6.64006325e-01 8.84651120e-01 4.72423727e-01 3.52830681e-01\n",
      "  2.16857079e-01]]\n"
     ]
    }
   ],
   "source": [
    "#se scriviamo ciò e stampiamo\n",
    "matrice1[0] = 111111.1\n",
    "print(matrice)\n",
    "#cambia anche matrice. Puntano allo stesso oggetto."
   ]
  },
  {
   "cell_type": "code",
   "execution_count": 65,
   "id": "3b18d0de",
   "metadata": {},
   "outputs": [
    {
     "data": {
      "text/plain": [
       "array([[1.11111100e+05, 3.21714554e-01],\n",
       "       [5.97762166e-01, 1.38813945e-01],\n",
       "       [7.16394402e-01, 3.48991719e-01],\n",
       "       [8.00752400e-01, 8.86393725e-01],\n",
       "       [4.81521487e-03, 7.38084970e-01],\n",
       "       [2.63580350e-01, 9.23094966e-01],\n",
       "       [3.75354015e-01, 6.65673278e-01],\n",
       "       [2.34388011e-01, 6.64006325e-01],\n",
       "       [8.84651120e-01, 4.72423727e-01],\n",
       "       [3.52830681e-01, 2.16857079e-01]])"
      ]
     },
     "execution_count": 65,
     "metadata": {},
     "output_type": "execute_result"
    }
   ],
   "source": [
    "#si può inoltre cambiare la forma delgi array con la funzione .reshape\n",
    "matrice.reshape((10,2))\n",
    "#gli elementi totali devono essere sempre uguali, in questo caso sempre 20 elementi"
   ]
  },
  {
   "cell_type": "code",
   "execution_count": 67,
   "id": "4d975277",
   "metadata": {},
   "outputs": [
    {
     "data": {
      "text/plain": [
       "array([[1.11111100e+05, 3.48991719e-01, 2.63580350e-01, 6.64006325e-01],\n",
       "       [3.21714554e-01, 8.00752400e-01, 9.23094966e-01, 8.84651120e-01],\n",
       "       [5.97762166e-01, 8.86393725e-01, 3.75354015e-01, 4.72423727e-01],\n",
       "       [1.38813945e-01, 4.81521487e-03, 6.65673278e-01, 3.52830681e-01],\n",
       "       [7.16394402e-01, 7.38084970e-01, 2.34388011e-01, 2.16857079e-01]])"
      ]
     },
     "execution_count": 67,
     "metadata": {},
     "output_type": "execute_result"
    }
   ],
   "source": [
    "#creiamo una matrice trasposta (ovvero una matrice che inverte righe e colonne)\n",
    "np.transpose(matrice)"
   ]
  },
  {
   "cell_type": "markdown",
   "id": "e14ef455",
   "metadata": {},
   "source": [
    "--------------------------------\n",
    "#### Esempio\n",
    "Abbiamo un dado a 6 facce e facciamo 10.000 lanci.\n",
    "1. Vogliamo vedere quanti sono i 6 usciti\n",
    "2. Quante volte c'è un numero maggiore di 3\n",
    "3. Il numero di volte che la somma di due numeri usciti da due dadi sia 8"
   ]
  },
  {
   "cell_type": "code",
   "execution_count": 76,
   "id": "3e07e1f3",
   "metadata": {},
   "outputs": [
    {
     "name": "stdout",
     "output_type": "stream",
     "text": [
      "[5 6 3 ... 1 4 1]\n",
      "[5 6 3 ... 1 4 1]\n"
     ]
    }
   ],
   "source": [
    "#simuliamo i lanci\n",
    "lanci_dado1 = np.random.randint(1,7, 10000)\n",
    "print(lanci_dado)\n",
    "\n",
    "lanci_dado2 = np.random.randint(1,7, 10000)\n",
    "print(lanci_dado)\n"
   ]
  },
  {
   "cell_type": "code",
   "execution_count": 71,
   "id": "08dc9f78",
   "metadata": {},
   "outputs": [
    {
     "data": {
      "text/plain": [
       "array([False,  True, False, ..., False, False, False])"
      ]
     },
     "execution_count": 71,
     "metadata": {},
     "output_type": "execute_result"
    }
   ],
   "source": [
    "#proviamo a vedere quali sono i 6\n",
    "lanci_dado == 6"
   ]
  },
  {
   "cell_type": "code",
   "execution_count": 74,
   "id": "18569e65",
   "metadata": {},
   "outputs": [
    {
     "data": {
      "text/plain": [
       "0.1696"
      ]
     },
     "execution_count": 74,
     "metadata": {},
     "output_type": "execute_result"
    }
   ],
   "source": [
    "#contiamo gli 1\n",
    "np.count_nonzero(lanci_dado==6)/10000\n",
    "#al tendere dei numeri di lancio ad infinito questo numero sarà sempre più vicino a 1./6"
   ]
  },
  {
   "cell_type": "code",
   "execution_count": 75,
   "id": "b6a4fe0c",
   "metadata": {},
   "outputs": [
    {
     "data": {
      "text/plain": [
       "0.5021"
      ]
     },
     "execution_count": 75,
     "metadata": {},
     "output_type": "execute_result"
    }
   ],
   "source": [
    "#vediamo il punto 2\n",
    "np.count_nonzero(lanci_dado >= 4)/10000"
   ]
  },
  {
   "cell_type": "code",
   "execution_count": 79,
   "id": "5b10b9a2",
   "metadata": {},
   "outputs": [
    {
     "data": {
      "text/plain": [
       "0.1484"
      ]
     },
     "execution_count": 79,
     "metadata": {},
     "output_type": "execute_result"
    }
   ],
   "source": [
    "#vediamo il punto 3\n",
    "np.count_nonzero(lanci_dado1 + lanci_dado2 == 8)/10000\n",
    "#(lanci_dado1 + lanci_dado2) somma elemento per elemento"
   ]
  },
  {
   "cell_type": "code",
   "execution_count": 37,
   "id": "6ba0f64f",
   "metadata": {},
   "outputs": [],
   "source": [
    "import numpy as np"
   ]
  },
  {
   "cell_type": "code",
   "execution_count": 43,
   "id": "e4fdf555",
   "metadata": {},
   "outputs": [
    {
     "data": {
      "text/plain": [
       "2"
      ]
     },
     "execution_count": 43,
     "metadata": {},
     "output_type": "execute_result"
    }
   ],
   "source": [
    "np.random.randint(2,3)"
   ]
  },
  {
   "cell_type": "code",
   "execution_count": null,
   "id": "99964d7e",
   "metadata": {},
   "outputs": [],
   "source": []
  }
 ],
 "metadata": {
  "kernelspec": {
   "display_name": "Python 3",
   "language": "python",
   "name": "python3"
  },
  "language_info": {
   "codemirror_mode": {
    "name": "ipython",
    "version": 3
   },
   "file_extension": ".py",
   "mimetype": "text/x-python",
   "name": "python",
   "nbconvert_exporter": "python",
   "pygments_lexer": "ipython3",
   "version": "3.8.8"
  }
 },
 "nbformat": 4,
 "nbformat_minor": 5
}
