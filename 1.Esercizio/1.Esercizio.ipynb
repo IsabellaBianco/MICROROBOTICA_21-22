{
 "cells": [
  {
   "cell_type": "markdown",
   "id": "194c7590",
   "metadata": {},
   "source": [
    "# Shortcut\n",
    "\n",
    "<img src=\"https://upload.wikimedia.org/wikipedia/commons/thumb/3/38/Jupyter_logo.svg/1200px-Jupyter_logo.svg.png\" alt=\"drawing\" width=\"60\"/>\n",
    "\n",
    "## Le scorciatoie utili in command mode\n",
    "\n",
    "Per poterle usare entrare in *command mode* con `ESC`(bordo blu).\n",
    "* `INVIO` entra in *coding mode*\n",
    "* `a` inserisce una nuova cella sopra (above) la corrente\n",
    "* `b` inserisce una nuova cella sotto (below) la corrente\n",
    "* `CTRL+INVIO` esegue la cella corrente e resta in essa\n",
    "* `SHIFT+INVIO` esegue la cella corrente e si sposta sulla successiva (se non c'è la crea)\n",
    "* `ALT+INVIO` esegue la cella corrente e ne crea una nuova sotto di essa\n",
    "* `m` trasforma la cella corrente in tipo *Markdown*\n",
    "* `y` trasforma la cella corrente in tipo *Code*\n",
    "* `d d` elimina la cella corrente\n",
    "* `x` `c` `v` taglia o copia la cella corrente e la incolla nella cella sotto (`SHIFT + V`  la incolla sopra)\n",
    "* `z` annulla l'ultima operazione\n",
    "* `FRECCIA SU` o `GIU` per spostarsi fra le celle\n"
   ]
  }
 ],
 "metadata": {
  "kernelspec": {
   "display_name": "Python 3",
   "language": "python",
   "name": "python3"
  },
  "language_info": {
   "codemirror_mode": {
    "name": "ipython",
    "version": 3
   },
   "file_extension": ".py",
   "mimetype": "text/x-python",
   "name": "python",
   "nbconvert_exporter": "python",
   "pygments_lexer": "ipython3",
   "version": "3.8.8"
  }
 },
 "nbformat": 4,
 "nbformat_minor": 5
}
