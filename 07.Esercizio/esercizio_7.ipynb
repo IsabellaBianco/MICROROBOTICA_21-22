{
 "cells": [
  {
   "cell_type": "code",
   "execution_count": 1,
   "id": "80ab4909",
   "metadata": {},
   "outputs": [],
   "source": [
    "import numpy as np"
   ]
  },
  {
   "cell_type": "code",
   "execution_count": 3,
   "id": "4eca61f4",
   "metadata": {},
   "outputs": [
    {
     "data": {
      "text/plain": [
       "array([ 1,  2,  3,  7, 30])"
      ]
     },
     "execution_count": 3,
     "metadata": {},
     "output_type": "execute_result"
    }
   ],
   "source": [
    "#creiamo un arrat\n",
    "a = np.array([1,2,3,7,30])\n",
    "a"
   ]
  },
  {
   "cell_type": "code",
   "execution_count": 10,
   "id": "6afa79e4",
   "metadata": {},
   "outputs": [],
   "source": [
    "#se voglio cambiare gli array e inserire un valore costante si fa\n",
    "a[...] = 5\n",
    "a\n",
    "a = np.array([1,2,3,7,30])"
   ]
  },
  {
   "cell_type": "code",
   "execution_count": 11,
   "id": "37ff67d9",
   "metadata": {},
   "outputs": [],
   "source": [
    "\"\"\"se si indicizza gli array come in python, non si creano delle copie, ma è una view di a\"\"\"\n",
    "#Per indicizzare l'array\n",
    "b = a[1:4]\n",
    "b[...] = 99\n"
   ]
  },
  {
   "cell_type": "code",
   "execution_count": 12,
   "id": "0d6ae367",
   "metadata": {},
   "outputs": [
    {
     "data": {
      "text/plain": [
       "array([99, 99, 99])"
      ]
     },
     "execution_count": 12,
     "metadata": {},
     "output_type": "execute_result"
    }
   ],
   "source": [
    "b"
   ]
  },
  {
   "cell_type": "code",
   "execution_count": 13,
   "id": "6ae8c3e9",
   "metadata": {},
   "outputs": [
    {
     "data": {
      "text/plain": [
       "array([ 1, 99, 99, 99, 30])"
      ]
     },
     "execution_count": 13,
     "metadata": {},
     "output_type": "execute_result"
    }
   ],
   "source": [
    "a"
   ]
  },
  {
   "cell_type": "code",
   "execution_count": 16,
   "id": "ef314d5b",
   "metadata": {},
   "outputs": [
    {
     "data": {
      "text/plain": [
       "True"
      ]
     },
     "execution_count": 16,
     "metadata": {},
     "output_type": "execute_result"
    }
   ],
   "source": [
    "#per capire se b è una view di a si può fare\n",
    "b.base is a"
   ]
  },
  {
   "cell_type": "code",
   "execution_count": 26,
   "id": "f1ceee54",
   "metadata": {},
   "outputs": [
    {
     "data": {
      "text/plain": [
       "False"
      ]
     },
     "execution_count": 26,
     "metadata": {},
     "output_type": "execute_result"
    }
   ],
   "source": [
    "#se però facciamo così c diventa una copia di a\n",
    "c = a\n",
    "c.base is a"
   ]
  },
  {
   "cell_type": "code",
   "execution_count": 27,
   "id": "33924b2f",
   "metadata": {},
   "outputs": [
    {
     "data": {
      "text/plain": [
       "array([ 1,  2,  3,  7, 30])"
      ]
     },
     "execution_count": 27,
     "metadata": {},
     "output_type": "execute_result"
    }
   ],
   "source": [
    "#esiste un'altra indicizzazione che si chiama fancy indexing che invece crea delle copie\n",
    "#e si può realizzare in due modi.\n",
    "\n",
    "a = np.array([1,2,3,7,30])\n",
    "a\n"
   ]
  },
  {
   "cell_type": "code",
   "execution_count": 32,
   "id": "28cf1539",
   "metadata": {},
   "outputs": [
    {
     "data": {
      "text/plain": [
       "False"
      ]
     },
     "execution_count": 32,
     "metadata": {},
     "output_type": "execute_result"
    }
   ],
   "source": [
    "#MODO 1, indicizzare tramite booleani:\n",
    "b = a[[True, False, True, False, False]]\n",
    "#Prende solamente quelli con True\n",
    "b[...] = 5\n",
    "\n",
    "#b in questo caso è una copia\n",
    "b.base is a"
   ]
  },
  {
   "cell_type": "code",
   "execution_count": 41,
   "id": "f9fecfc1",
   "metadata": {},
   "outputs": [
    {
     "name": "stdout",
     "output_type": "stream",
     "text": [
      "[2 3 6 6 1 5 3 2 1 1]\n",
      "[2 5 6 2 2 6 4 4 5 1]\n"
     ]
    }
   ],
   "source": [
    "#Esempio\n",
    "#Abbiamo due lanci di un dado\n",
    "dado_Alice= np.random.randint(1,7,10)\n",
    "dado_Bob = np.random.randint(1,7,10)\n",
    "print(dado_Alice)\n",
    "print(dado_Bob)"
   ]
  },
  {
   "cell_type": "code",
   "execution_count": 43,
   "id": "afdce68f",
   "metadata": {},
   "outputs": [],
   "source": [
    "#Alice vince se il suo dado è il maggiore di quello di Bob\n",
    "punteggi_vittoria_Alice = dado_Alice[dado_Alice > dado_Bob]"
   ]
  },
  {
   "cell_type": "code",
   "execution_count": 44,
   "id": "9b26724a",
   "metadata": {},
   "outputs": [
    {
     "data": {
      "text/plain": [
       "False"
      ]
     },
     "execution_count": 44,
     "metadata": {},
     "output_type": "execute_result"
    }
   ],
   "source": [
    "punteggi_vittoria_Alice.base is dado_Alice"
   ]
  },
  {
   "cell_type": "code",
   "execution_count": 45,
   "id": "e543bd4e",
   "metadata": {},
   "outputs": [
    {
     "data": {
      "text/plain": [
       "array([ 1,  2,  3,  7, 30])"
      ]
     },
     "execution_count": 45,
     "metadata": {},
     "output_type": "execute_result"
    }
   ],
   "source": [
    "#MODO 2, indicizzazione tramite lista di indici\n",
    "a = np.array([1,2,3,7,30])\n",
    "a"
   ]
  },
  {
   "cell_type": "code",
   "execution_count": 49,
   "id": "6ffafa0f",
   "metadata": {},
   "outputs": [
    {
     "data": {
      "text/plain": [
       "array([ 2, 30,  7])"
      ]
     },
     "execution_count": 49,
     "metadata": {},
     "output_type": "execute_result"
    }
   ],
   "source": [
    "b = a[[1,4,3]]\n",
    "b"
   ]
  },
  {
   "cell_type": "code",
   "execution_count": 50,
   "id": "c687e747",
   "metadata": {},
   "outputs": [
    {
     "data": {
      "text/plain": [
       "False"
      ]
     },
     "execution_count": 50,
     "metadata": {},
     "output_type": "execute_result"
    }
   ],
   "source": [
    "b.base is a "
   ]
  },
  {
   "cell_type": "code",
   "execution_count": 53,
   "id": "92ccedd8",
   "metadata": {},
   "outputs": [
    {
     "name": "stdout",
     "output_type": "stream",
     "text": [
      "[[1 2 3]\n",
      " [4 5 6]\n",
      " [7 8 9]]\n"
     ]
    }
   ],
   "source": [
    "#Proviamo a fare qualcosa con gli array bidimensionali\n",
    "mat = np.array([[1,2,3],[4,5,6],[7,8,9]])\n",
    "print(mat)"
   ]
  },
  {
   "cell_type": "code",
   "execution_count": 59,
   "id": "83d84e55",
   "metadata": {},
   "outputs": [
    {
     "data": {
      "text/plain": [
       "array([3, 6, 9])"
      ]
     },
     "execution_count": 59,
     "metadata": {},
     "output_type": "execute_result"
    }
   ],
   "source": [
    "#indicizzazione classica\n",
    "mat[2][0]\n",
    "\n",
    "#indicizzazione numpy\n",
    "mat[2,0]\n",
    "#stampare colonne si fa così\n",
    "terza_colonna = mat[:,2]\n",
    "terza_colonna"
   ]
  },
  {
   "cell_type": "code",
   "execution_count": 62,
   "id": "74189615",
   "metadata": {},
   "outputs": [
    {
     "data": {
      "text/plain": [
       "True"
      ]
     },
     "execution_count": 62,
     "metadata": {},
     "output_type": "execute_result"
    }
   ],
   "source": [
    "terza_colonna[...] = 11\n",
    "terza_colonna.base is mat"
   ]
  },
  {
   "cell_type": "code",
   "execution_count": 67,
   "id": "6aa1152e",
   "metadata": {},
   "outputs": [
    {
     "name": "stdout",
     "output_type": "stream",
     "text": [
      "[[0 0 1 1 1 1 1 0 1 0]\n",
      " [1 1 0 1 0 1 0 1 0 1]\n",
      " [1 0 0 1 0 1 0 1 0 1]\n",
      " [1 1 0 1 0 0 0 0 0 0]\n",
      " [1 0 1 1 0 1 0 1 0 0]\n",
      " [0 1 1 0 0 1 1 0 0 1]\n",
      " [1 0 0 1 1 0 0 0 0 0]\n",
      " [1 0 0 0 0 1 0 1 0 0]\n",
      " [1 0 0 0 1 0 0 1 1 0]\n",
      " [0 1 0 1 0 0 0 0 1 0]]\n"
     ]
    }
   ],
   "source": [
    "mat = np.random.randint(0,2,size=(10,10))\n",
    "print(mat)\n",
    "#Voglio il bordo pieno  di 0"
   ]
  },
  {
   "cell_type": "code",
   "execution_count": 74,
   "id": "3077899b",
   "metadata": {},
   "outputs": [
    {
     "name": "stdout",
     "output_type": "stream",
     "text": [
      "[[0 0 0 0 0 0 0 0 0 0]\n",
      " [0 1 0 1 0 1 0 1 0 0]\n",
      " [0 0 0 1 0 1 0 1 0 0]\n",
      " [0 1 0 1 0 0 0 0 0 0]\n",
      " [0 0 1 1 0 1 0 1 0 0]\n",
      " [0 1 1 0 0 1 1 0 0 0]\n",
      " [0 0 0 1 1 0 0 0 0 0]\n",
      " [0 0 0 0 0 1 0 1 0 0]\n",
      " [0 0 0 0 1 0 0 1 1 0]\n",
      " [0 0 0 0 0 0 0 0 0 0]]\n"
     ]
    }
   ],
   "source": [
    "mat[[0,9],:] = 0\n",
    "mat[:,[0,9]] = 0\n",
    "print(mat)"
   ]
  },
  {
   "cell_type": "code",
   "execution_count": 81,
   "id": "a1302383",
   "metadata": {},
   "outputs": [
    {
     "name": "stdout",
     "output_type": "stream",
     "text": [
      "[[4 7 8 3 7 8 3 7 5 7]\n",
      " [6 1 0 1 0 1 0 1 0 6]\n",
      " [8 0 0 1 0 1 0 1 0 4]\n",
      " [8 1 0 1 0 0 0 0 0 8]\n",
      " [4 0 1 1 0 1 0 1 0 8]\n",
      " [6 1 1 0 0 1 1 0 0 4]\n",
      " [3 0 0 1 1 0 0 0 0 8]\n",
      " [5 0 0 0 0 1 0 1 0 3]\n",
      " [5 0 0 0 1 0 0 1 1 6]\n",
      " [4 5 7 3 3 4 6 7 6 4]]\n"
     ]
    }
   ],
   "source": [
    "mat[[0,9],:] = np.random.randint(3,9,(2,10))\n",
    "mat[:,[0,9]] = np.random.randint(3,9,(10,2))\n",
    "print(mat)"
   ]
  },
  {
   "cell_type": "code",
   "execution_count": null,
   "id": "d58a9b4a",
   "metadata": {},
   "outputs": [],
   "source": []
  }
 ],
 "metadata": {
  "kernelspec": {
   "display_name": "Python 3",
   "language": "python",
   "name": "python3"
  },
  "language_info": {
   "codemirror_mode": {
    "name": "ipython",
    "version": 3
   },
   "file_extension": ".py",
   "mimetype": "text/x-python",
   "name": "python",
   "nbconvert_exporter": "python",
   "pygments_lexer": "ipython3",
   "version": "3.8.8"
  }
 },
 "nbformat": 4,
 "nbformat_minor": 5
}
