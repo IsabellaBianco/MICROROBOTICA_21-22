{
 "cells": [
  {
   "cell_type": "code",
   "execution_count": 1,
   "id": "07f88fae",
   "metadata": {},
   "outputs": [],
   "source": [
    "import numpy as np"
   ]
  },
  {
   "cell_type": "code",
   "execution_count": 2,
   "id": "bdad0bec",
   "metadata": {},
   "outputs": [],
   "source": [
    "a = np.array([1,2,3,4])\n",
    "b = np.array([2,2,2,2])"
   ]
  },
  {
   "cell_type": "code",
   "execution_count": 6,
   "id": "c10c587d",
   "metadata": {},
   "outputs": [
    {
     "name": "stdout",
     "output_type": "stream",
     "text": [
      "[ 1  4  9 16]\n",
      "[2 4 6 8]\n",
      "[ 3  6 11 20]\n",
      "[1 0 1 0]\n"
     ]
    }
   ],
   "source": [
    "#Qualunque operazione che faccio lo fa elemento per elemento. NB gli array devono essere lunghi uguali\n",
    "\"\"\"AD ESEMPIO\"\"\"\n",
    "print(a**b)\n",
    "print(a*b)\n",
    "print(a+b**a)\n",
    "print(a%2)"
   ]
  },
  {
   "cell_type": "markdown",
   "id": "3a865434",
   "metadata": {},
   "source": [
    "### Vediamo se un numero è primo oppure no\n",
    "1. **Metodo classico** con il ciclo for\n",
    "    La grande limitazione di questo metodo è che posso passargli un solo valore, non un array"
   ]
  },
  {
   "cell_type": "code",
   "execution_count": 12,
   "id": "2abf447f",
   "metadata": {},
   "outputs": [
    {
     "data": {
      "text/plain": [
       "True"
      ]
     },
     "execution_count": 12,
     "metadata": {},
     "output_type": "execute_result"
    }
   ],
   "source": [
    "def isPrime(n):\n",
    "    for i in range(2, int(np.sqrt(n))+1):\n",
    "        if n%i == 0:\n",
    "            return False\n",
    "    return True\n",
    "\n",
    "isPrime(23)"
   ]
  },
  {
   "cell_type": "markdown",
   "id": "48ca1b7e",
   "metadata": {},
   "source": [
    "2. **Metodo numpy** con le funzioni numpy. In questo modo dalla funzione python ottengo una funzione vettorizzata"
   ]
  },
  {
   "cell_type": "code",
   "execution_count": 16,
   "id": "47d5b2de",
   "metadata": {},
   "outputs": [
    {
     "data": {
      "text/plain": [
       "array([ True,  True, False,  True, False,  True, False, False, False,\n",
       "        True, False,  True, False, False, False,  True, False,  True,\n",
       "       False, False, False,  True, False, False, False, False, False,\n",
       "        True, False,  True, False, False, False, False, False,  True,\n",
       "       False, False, False,  True, False,  True, False, False, False,\n",
       "        True, False, False, False, False, False,  True, False, False,\n",
       "       False, False, False,  True, False,  True, False, False, False,\n",
       "       False, False,  True, False, False, False,  True, False,  True,\n",
       "       False, False, False, False, False,  True, False, False, False,\n",
       "        True, False, False, False, False, False,  True])"
      ]
     },
     "execution_count": 16,
     "metadata": {},
     "output_type": "execute_result"
    }
   ],
   "source": [
    "c = np.arange(2,90)\n",
    "\n",
    "isPrime_v = np.vectorize(isPrime)\n",
    "isPrime_v(c)"
   ]
  },
  {
   "cell_type": "code",
   "execution_count": 17,
   "id": "95980d84",
   "metadata": {},
   "outputs": [
    {
     "data": {
      "text/plain": [
       "array([ 2,  3,  5,  7, 11, 13, 17, 19, 23, 29, 31, 37, 41, 43, 47, 53, 59,\n",
       "       61, 67, 71, 73, 79, 83, 89])"
      ]
     },
     "execution_count": 17,
     "metadata": {},
     "output_type": "execute_result"
    }
   ],
   "source": [
    "#Lista di numeri primi\n",
    "c[isPrime_v(c)]"
   ]
  },
  {
   "cell_type": "code",
   "execution_count": 18,
   "id": "577209e8",
   "metadata": {},
   "outputs": [
    {
     "data": {
      "text/plain": [
       "3.141592653589793"
      ]
     },
     "execution_count": 18,
     "metadata": {},
     "output_type": "execute_result"
    }
   ],
   "source": [
    "#NB in numpy ci sono alcune funzioni ad esempio il PI GRECO\n",
    "np.pi"
   ]
  },
  {
   "cell_type": "code",
   "execution_count": null,
   "id": "fa7c8264",
   "metadata": {},
   "outputs": [],
   "source": [
    "\"\"\"\n",
    "COMPITO\n",
    "Dato un esempio di reference trovato in rete, crearne una nostra. Ovvero con funzione di numpy dire cosa fa e \n",
    "fare un esempio.\n",
    "\"\"\""
   ]
  }
 ],
 "metadata": {
  "kernelspec": {
   "display_name": "Python 3",
   "language": "python",
   "name": "python3"
  },
  "language_info": {
   "codemirror_mode": {
    "name": "ipython",
    "version": 3
   },
   "file_extension": ".py",
   "mimetype": "text/x-python",
   "name": "python",
   "nbconvert_exporter": "python",
   "pygments_lexer": "ipython3",
   "version": "3.8.8"
  }
 },
 "nbformat": 4,
 "nbformat_minor": 5
}
