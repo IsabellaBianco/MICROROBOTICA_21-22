{
 "cells": [
  {
   "cell_type": "markdown",
   "id": "237c8e0d",
   "metadata": {},
   "source": [
    "## Esercizi di compito su numpy per il 19-11-2021"
   ]
  },
  {
   "cell_type": "code",
   "execution_count": 2,
   "id": "351e4975",
   "metadata": {},
   "outputs": [],
   "source": [
    "import numpy as np"
   ]
  },
  {
   "cell_type": "markdown",
   "id": "31113c42",
   "metadata": {},
   "source": [
    "#### Esercizio 1\n",
    "Creare una matrice fatta scacchiera 8x8 alternando 0 e 1 (la prima cella è uno 0) "
   ]
  },
  {
   "cell_type": "code",
   "execution_count": 17,
   "id": "ca42613c",
   "metadata": {},
   "outputs": [
    {
     "data": {
      "text/plain": [
       "array([[0, 1],\n",
       "       [0, 3],\n",
       "       [0, 5],\n",
       "       [0, 7],\n",
       "       [1, 0],\n",
       "       [1, 2],\n",
       "       [1, 4],\n",
       "       [1, 6],\n",
       "       [2, 1],\n",
       "       [2, 3],\n",
       "       [2, 5],\n",
       "       [2, 7],\n",
       "       [3, 0],\n",
       "       [3, 2],\n",
       "       [3, 4],\n",
       "       [3, 6],\n",
       "       [4, 1],\n",
       "       [4, 3],\n",
       "       [4, 5],\n",
       "       [4, 7],\n",
       "       [5, 0],\n",
       "       [5, 2],\n",
       "       [5, 4],\n",
       "       [5, 6],\n",
       "       [6, 1],\n",
       "       [6, 3],\n",
       "       [6, 5],\n",
       "       [6, 7],\n",
       "       [7, 0],\n",
       "       [7, 2],\n",
       "       [7, 4],\n",
       "       [7, 6]])"
      ]
     },
     "execution_count": 17,
     "metadata": {},
     "output_type": "execute_result"
    }
   ],
   "source": [
    "mat = np.zeros((8,8), dtype=int)\n",
    "#array delle posizioni dispari\n",
    "indici = np.array([[i,j] for i in range(8) for j in range(8) if(i+j)%2==1])\n",
    "indici"
   ]
  },
  {
   "cell_type": "code",
   "execution_count": 24,
   "id": "b40d1ec0",
   "metadata": {},
   "outputs": [
    {
     "data": {
      "text/plain": [
       "array([[0, 1, 0, 1, 0, 1, 0, 1],\n",
       "       [1, 0, 1, 0, 1, 0, 1, 0],\n",
       "       [0, 1, 0, 1, 0, 1, 0, 1],\n",
       "       [1, 0, 1, 0, 1, 0, 1, 0],\n",
       "       [0, 1, 0, 1, 0, 1, 0, 1],\n",
       "       [1, 0, 1, 0, 1, 0, 1, 0],\n",
       "       [0, 1, 0, 1, 0, 1, 0, 1],\n",
       "       [1, 0, 1, 0, 1, 0, 1, 0]])"
      ]
     },
     "execution_count": 24,
     "metadata": {},
     "output_type": "execute_result"
    }
   ],
   "source": [
    "#indici.T scambia le righe con le colonne\n",
    "mat[indici.T[0], indici.T[1]] = 1\n",
    "mat\n",
    "#MODO 2\n",
    "#mat[::2, significa prendi tutto di due in due]\n",
    "mat_2 = np.ones((8,8), dtype=int)\n",
    "mat_2[::2,::2] = 0\n",
    "mat_2[1::2,1::2] = 0\n",
    "mat_2"
   ]
  },
  {
   "cell_type": "markdown",
   "id": "73009d66",
   "metadata": {},
   "source": [
    "#### Esercizio 2\n",
    "Considerando l'array: Z = [1,2,3,4,5,6,7,8,9,10,11,12,13,14], generare un array R = [[1,2,3,4], [2,3,4,5], [3,4,5,6], ..., [11,12,13,14]]."
   ]
  },
  {
   "cell_type": "code",
   "execution_count": 15,
   "id": "1f89924f",
   "metadata": {},
   "outputs": [
    {
     "data": {
      "text/plain": [
       "array([[ 1,  2,  3,  4],\n",
       "       [ 2,  3,  4,  5],\n",
       "       [ 3,  4,  5,  6],\n",
       "       [ 4,  5,  6,  7],\n",
       "       [ 5,  6,  7,  8],\n",
       "       [ 6,  7,  8,  9],\n",
       "       [ 7,  8,  9, 10],\n",
       "       [ 8,  9, 10, 11],\n",
       "       [ 9, 10, 11, 12],\n",
       "       [10, 11, 12, 13],\n",
       "       [11, 12, 13, 14]])"
      ]
     },
     "execution_count": 15,
     "metadata": {},
     "output_type": "execute_result"
    }
   ],
   "source": [
    "Z = np.arange(1,15)\n",
    "R = np.array([Z[n:n+4] for n in range(Z.size-3)])\n",
    "R"
   ]
  },
  {
   "cell_type": "markdown",
   "id": "fda9bf44",
   "metadata": {},
   "source": [
    "#### Esercizio 3\n",
    "Usando la funzione numpy.random.normal(mean, dev, shape) generare un ndarray che contenga la stima dell'altezza degli alunni della classe. L'ndarray deve avere lunghezza pari al numero di compagni di classe. I valori mean e dev devono essere stimati in modo tale da simulare la distribuzione dell'altezza degli alunni in cm nel modo più realistico possibile."
   ]
  },
  {
   "cell_type": "code",
   "execution_count": 64,
   "id": "84d94518",
   "metadata": {},
   "outputs": [
    {
     "data": {
      "text/plain": [
       "array([161.36022476, 167.21031538, 167.96570169, 168.19552838,\n",
       "       169.29300041, 159.25733816, 152.64912715, 153.07506947,\n",
       "       168.00026206, 180.19729109, 159.98513264, 171.56990326,\n",
       "       162.00498414, 181.12615096, 157.64912878])"
      ]
     },
     "execution_count": 64,
     "metadata": {},
     "output_type": "execute_result"
    }
   ],
   "source": [
    "np.random.normal(loc=172, scale=10, size=15)"
   ]
  },
  {
   "cell_type": "markdown",
   "id": "2472fcb6",
   "metadata": {},
   "source": [
    "#### Esercizio 4\n",
    " Creare una matrice fatta come un bersaglio 10x10, le cornici concentriche hanno valori crescenti verso il centro (quella più esterna ha valori = 1)"
   ]
  },
  {
   "cell_type": "code",
   "execution_count": 30,
   "id": "2672076f",
   "metadata": {},
   "outputs": [
    {
     "name": "stdout",
     "output_type": "stream",
     "text": [
      "[[ 1  1  1  1  1  1  1  1  1  1  1  1  1  1  1  1  1  1  1  1]\n",
      " [ 1  2  2  2  2  2  2  2  2  2  2  2  2  2  2  2  2  2  2  1]\n",
      " [ 1  2  3  3  3  3  3  3  3  3  3  3  3  3  3  3  3  3  2  1]\n",
      " [ 1  2  3  4  4  4  4  4  4  4  4  4  4  4  4  4  4  3  2  1]\n",
      " [ 1  2  3  4  5  5  5  5  5  5  5  5  5  5  5  5  4  3  2  1]\n",
      " [ 1  2  3  4  5  6  6  6  6  6  6  6  6  6  6  5  4  3  2  1]\n",
      " [ 1  2  3  4  5  6  7  7  7  7  7  7  7  7  6  5  4  3  2  1]\n",
      " [ 1  2  3  4  5  6  7  8  8  8  8  8  8  7  6  5  4  3  2  1]\n",
      " [ 1  2  3  4  5  6  7  8  9  9  9  9  8  7  6  5  4  3  2  1]\n",
      " [ 1  2  3  4  5  6  7  8  9 10 10  9  8  7  6  5  4  3  2  1]\n",
      " [ 1  2  3  4  5  6  7  8  9 10 10  9  8  7  6  5  4  3  2  1]\n",
      " [ 1  2  3  4  5  6  7  8  9  9  9  9  8  7  6  5  4  3  2  1]\n",
      " [ 1  2  3  4  5  6  7  8  8  8  8  8  8  7  6  5  4  3  2  1]\n",
      " [ 1  2  3  4  5  6  7  7  7  7  7  7  7  7  6  5  4  3  2  1]\n",
      " [ 1  2  3  4  5  6  6  6  6  6  6  6  6  6  6  5  4  3  2  1]\n",
      " [ 1  2  3  4  5  5  5  5  5  5  5  5  5  5  5  5  4  3  2  1]\n",
      " [ 1  2  3  4  4  4  4  4  4  4  4  4  4  4  4  4  4  3  2  1]\n",
      " [ 1  2  3  3  3  3  3  3  3  3  3  3  3  3  3  3  3  3  2  1]\n",
      " [ 1  2  2  2  2  2  2  2  2  2  2  2  2  2  2  2  2  2  2  1]\n",
      " [ 1  1  1  1  1  1  1  1  1  1  1  1  1  1  1  1  1  1  1  1]]\n"
     ]
    }
   ],
   "source": [
    "s = 20\n",
    "mat_4 =  np.ones((s,s), dtype=int)\n",
    "for n in range(1,s+1):\n",
    "    mat_4[n-1:-n+1,n-1:-n+1] = n\n",
    "print(mat_4)"
   ]
  },
  {
   "cell_type": "markdown",
   "id": "f669d471",
   "metadata": {},
   "source": [
    "### Piccola parentesi di statistica\n",
    "Vediamo alcuni concetti che ci possono servire:\n",
    "* La **media dei valori**, che in numpy si calcola così: `np.average(nome_array)`\n",
    "* La **deviazione standard** che è un parametro che che misura quanto i valori sono concentrati attorno alla media. \n",
    "    Sarebbe il 68% dell'area sotto la Gaussiana e si calcola facendo *la radice quadrata della differenza tra la\n",
    "    media dei quadrati e la media al quadrato*:\n",
    "    \n",
    "    ` m_2 = 1/n(x_1²+x_2²+...+x_n²) `\n",
    "    \n",
    "    `dev_std = sqrt(m_2-m²)`\n",
    "* La **varianza** che è il quadrato della deviazione standard:\n",
    "    ``v=(m_2-m²)``"
   ]
  },
  {
   "cell_type": "code",
   "execution_count": 38,
   "id": "d37184a8",
   "metadata": {},
   "outputs": [
    {
     "data": {
      "text/plain": [
       "array([173.92193538, 176.65961486, 175.87668401, 171.23515183,\n",
       "       175.95114878, 175.40802394, 179.51417493, 181.36022852,\n",
       "       175.58478509, 179.13980539, 185.00713362, 189.98978263,\n",
       "       173.31077142])"
      ]
     },
     "execution_count": 38,
     "metadata": {},
     "output_type": "execute_result"
    }
   ],
   "source": [
    "altezze = np.array([180,171,182,175,171,177,175,179,174,185,185,190,176])\n",
    "#in numpy il valore medio si calcola così:\n",
    "np.average(altezze)\n",
    "dev_std = np.std(altezze)\n",
    "np.random.normal(loc=altezze, scale=dev_std)"
   ]
  }
 ],
 "metadata": {
  "kernelspec": {
   "display_name": "Python 3",
   "language": "python",
   "name": "python3"
  },
  "language_info": {
   "codemirror_mode": {
    "name": "ipython",
    "version": 3
   },
   "file_extension": ".py",
   "mimetype": "text/x-python",
   "name": "python",
   "nbconvert_exporter": "python",
   "pygments_lexer": "ipython3",
   "version": "3.8.8"
  }
 },
 "nbformat": 4,
 "nbformat_minor": 5
}
